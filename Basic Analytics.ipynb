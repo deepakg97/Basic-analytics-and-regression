{
 "cells": [
  {
   "cell_type": "code",
   "execution_count": 1,
   "id": "114c9394",
   "metadata": {},
   "outputs": [],
   "source": [
    "import pandas as pd\n",
    "from pandas import DataFrame"
   ]
  },
  {
   "cell_type": "markdown",
   "id": "94b2cc60",
   "metadata": {},
   "source": [
    "### Importing Data"
   ]
  },
  {
   "cell_type": "code",
   "execution_count": 2,
   "id": "298705f3",
   "metadata": {},
   "outputs": [
    {
     "data": {
      "text/html": [
       "<div>\n",
       "<style scoped>\n",
       "    .dataframe tbody tr th:only-of-type {\n",
       "        vertical-align: middle;\n",
       "    }\n",
       "\n",
       "    .dataframe tbody tr th {\n",
       "        vertical-align: top;\n",
       "    }\n",
       "\n",
       "    .dataframe thead th {\n",
       "        text-align: right;\n",
       "    }\n",
       "</style>\n",
       "<table border=\"1\" class=\"dataframe\">\n",
       "  <thead>\n",
       "    <tr style=\"text-align: right;\">\n",
       "      <th></th>\n",
       "      <th>Employee</th>\n",
       "      <th>EducLev</th>\n",
       "      <th>JobGrade</th>\n",
       "      <th>YrHired</th>\n",
       "      <th>YrBorn</th>\n",
       "      <th>Gender</th>\n",
       "      <th>YrsPrior</th>\n",
       "      <th>PCJob</th>\n",
       "      <th>Salary</th>\n",
       "      <th>Mgmt</th>\n",
       "    </tr>\n",
       "  </thead>\n",
       "  <tbody>\n",
       "    <tr>\n",
       "      <th>0</th>\n",
       "      <td>1</td>\n",
       "      <td>3</td>\n",
       "      <td>1</td>\n",
       "      <td>92</td>\n",
       "      <td>69</td>\n",
       "      <td>Male</td>\n",
       "      <td>1</td>\n",
       "      <td>No</td>\n",
       "      <td>32.0</td>\n",
       "      <td>Non-Mgmt</td>\n",
       "    </tr>\n",
       "    <tr>\n",
       "      <th>1</th>\n",
       "      <td>2</td>\n",
       "      <td>1</td>\n",
       "      <td>1</td>\n",
       "      <td>81</td>\n",
       "      <td>57</td>\n",
       "      <td>Female</td>\n",
       "      <td>1</td>\n",
       "      <td>No</td>\n",
       "      <td>39.1</td>\n",
       "      <td>Non-Mgmt</td>\n",
       "    </tr>\n",
       "    <tr>\n",
       "      <th>2</th>\n",
       "      <td>3</td>\n",
       "      <td>1</td>\n",
       "      <td>1</td>\n",
       "      <td>83</td>\n",
       "      <td>60</td>\n",
       "      <td>Female</td>\n",
       "      <td>0</td>\n",
       "      <td>No</td>\n",
       "      <td>33.2</td>\n",
       "      <td>Non-Mgmt</td>\n",
       "    </tr>\n",
       "    <tr>\n",
       "      <th>3</th>\n",
       "      <td>4</td>\n",
       "      <td>2</td>\n",
       "      <td>1</td>\n",
       "      <td>87</td>\n",
       "      <td>55</td>\n",
       "      <td>Female</td>\n",
       "      <td>7</td>\n",
       "      <td>No</td>\n",
       "      <td>30.6</td>\n",
       "      <td>Non-Mgmt</td>\n",
       "    </tr>\n",
       "    <tr>\n",
       "      <th>4</th>\n",
       "      <td>5</td>\n",
       "      <td>3</td>\n",
       "      <td>1</td>\n",
       "      <td>92</td>\n",
       "      <td>67</td>\n",
       "      <td>Male</td>\n",
       "      <td>0</td>\n",
       "      <td>No</td>\n",
       "      <td>29.0</td>\n",
       "      <td>Non-Mgmt</td>\n",
       "    </tr>\n",
       "  </tbody>\n",
       "</table>\n",
       "</div>"
      ],
      "text/plain": [
       "   Employee  EducLev  JobGrade  YrHired  YrBorn  Gender  YrsPrior PCJob  \\\n",
       "0         1        3         1       92      69    Male         1    No   \n",
       "1         2        1         1       81      57  Female         1    No   \n",
       "2         3        1         1       83      60  Female         0    No   \n",
       "3         4        2         1       87      55  Female         7    No   \n",
       "4         5        3         1       92      67    Male         0    No   \n",
       "\n",
       "   Salary      Mgmt  \n",
       "0    32.0  Non-Mgmt  \n",
       "1    39.1  Non-Mgmt  \n",
       "2    33.2  Non-Mgmt  \n",
       "3    30.6  Non-Mgmt  \n",
       "4    29.0  Non-Mgmt  "
      ]
     },
     "execution_count": 2,
     "metadata": {},
     "output_type": "execute_result"
    }
   ],
   "source": [
    "bank = pd.read_csv('Bank.csv')\n",
    "bank.head()"
   ]
  },
  {
   "cell_type": "code",
   "execution_count": 3,
   "id": "0c1c91ac",
   "metadata": {},
   "outputs": [
    {
     "data": {
      "text/plain": [
       "(208, 10)"
      ]
     },
     "execution_count": 3,
     "metadata": {},
     "output_type": "execute_result"
    }
   ],
   "source": [
    "bank.shape"
   ]
  },
  {
   "cell_type": "code",
   "execution_count": 4,
   "id": "c9b9d168",
   "metadata": {},
   "outputs": [
    {
     "data": {
      "text/html": [
       "<div>\n",
       "<style scoped>\n",
       "    .dataframe tbody tr th:only-of-type {\n",
       "        vertical-align: middle;\n",
       "    }\n",
       "\n",
       "    .dataframe tbody tr th {\n",
       "        vertical-align: top;\n",
       "    }\n",
       "\n",
       "    .dataframe thead th {\n",
       "        text-align: right;\n",
       "    }\n",
       "</style>\n",
       "<table border=\"1\" class=\"dataframe\">\n",
       "  <thead>\n",
       "    <tr style=\"text-align: right;\">\n",
       "      <th></th>\n",
       "      <th>Employee</th>\n",
       "      <th>EducLev</th>\n",
       "      <th>JobGrade</th>\n",
       "      <th>YrHired</th>\n",
       "      <th>YrBorn</th>\n",
       "      <th>YrsPrior</th>\n",
       "      <th>Salary</th>\n",
       "    </tr>\n",
       "  </thead>\n",
       "  <tbody>\n",
       "    <tr>\n",
       "      <th>count</th>\n",
       "      <td>208.000000</td>\n",
       "      <td>208.000000</td>\n",
       "      <td>208.000000</td>\n",
       "      <td>208.000000</td>\n",
       "      <td>208.000000</td>\n",
       "      <td>208.000000</td>\n",
       "      <td>208.000000</td>\n",
       "    </tr>\n",
       "    <tr>\n",
       "      <th>mean</th>\n",
       "      <td>104.500000</td>\n",
       "      <td>3.158654</td>\n",
       "      <td>2.759615</td>\n",
       "      <td>85.326923</td>\n",
       "      <td>54.605769</td>\n",
       "      <td>2.375000</td>\n",
       "      <td>39.921923</td>\n",
       "    </tr>\n",
       "    <tr>\n",
       "      <th>std</th>\n",
       "      <td>60.188592</td>\n",
       "      <td>1.467464</td>\n",
       "      <td>1.566529</td>\n",
       "      <td>6.987832</td>\n",
       "      <td>10.318988</td>\n",
       "      <td>3.135237</td>\n",
       "      <td>11.256154</td>\n",
       "    </tr>\n",
       "    <tr>\n",
       "      <th>min</th>\n",
       "      <td>1.000000</td>\n",
       "      <td>1.000000</td>\n",
       "      <td>1.000000</td>\n",
       "      <td>56.000000</td>\n",
       "      <td>30.000000</td>\n",
       "      <td>0.000000</td>\n",
       "      <td>26.700000</td>\n",
       "    </tr>\n",
       "    <tr>\n",
       "      <th>25%</th>\n",
       "      <td>52.750000</td>\n",
       "      <td>2.000000</td>\n",
       "      <td>1.000000</td>\n",
       "      <td>82.000000</td>\n",
       "      <td>47.750000</td>\n",
       "      <td>0.000000</td>\n",
       "      <td>33.000000</td>\n",
       "    </tr>\n",
       "    <tr>\n",
       "      <th>50%</th>\n",
       "      <td>104.500000</td>\n",
       "      <td>3.000000</td>\n",
       "      <td>3.000000</td>\n",
       "      <td>87.000000</td>\n",
       "      <td>56.500000</td>\n",
       "      <td>1.000000</td>\n",
       "      <td>37.000000</td>\n",
       "    </tr>\n",
       "    <tr>\n",
       "      <th>75%</th>\n",
       "      <td>156.250000</td>\n",
       "      <td>5.000000</td>\n",
       "      <td>4.000000</td>\n",
       "      <td>90.000000</td>\n",
       "      <td>63.000000</td>\n",
       "      <td>4.000000</td>\n",
       "      <td>44.000000</td>\n",
       "    </tr>\n",
       "    <tr>\n",
       "      <th>max</th>\n",
       "      <td>208.000000</td>\n",
       "      <td>5.000000</td>\n",
       "      <td>6.000000</td>\n",
       "      <td>93.000000</td>\n",
       "      <td>73.000000</td>\n",
       "      <td>18.000000</td>\n",
       "      <td>97.000000</td>\n",
       "    </tr>\n",
       "  </tbody>\n",
       "</table>\n",
       "</div>"
      ],
      "text/plain": [
       "         Employee     EducLev    JobGrade     YrHired      YrBorn    YrsPrior  \\\n",
       "count  208.000000  208.000000  208.000000  208.000000  208.000000  208.000000   \n",
       "mean   104.500000    3.158654    2.759615   85.326923   54.605769    2.375000   \n",
       "std     60.188592    1.467464    1.566529    6.987832   10.318988    3.135237   \n",
       "min      1.000000    1.000000    1.000000   56.000000   30.000000    0.000000   \n",
       "25%     52.750000    2.000000    1.000000   82.000000   47.750000    0.000000   \n",
       "50%    104.500000    3.000000    3.000000   87.000000   56.500000    1.000000   \n",
       "75%    156.250000    5.000000    4.000000   90.000000   63.000000    4.000000   \n",
       "max    208.000000    5.000000    6.000000   93.000000   73.000000   18.000000   \n",
       "\n",
       "           Salary  \n",
       "count  208.000000  \n",
       "mean    39.921923  \n",
       "std     11.256154  \n",
       "min     26.700000  \n",
       "25%     33.000000  \n",
       "50%     37.000000  \n",
       "75%     44.000000  \n",
       "max     97.000000  "
      ]
     },
     "execution_count": 4,
     "metadata": {},
     "output_type": "execute_result"
    }
   ],
   "source": [
    "bank.describe()"
   ]
  },
  {
   "cell_type": "code",
   "execution_count": 5,
   "id": "2d9a62cc",
   "metadata": {},
   "outputs": [
    {
     "name": "stdout",
     "output_type": "stream",
     "text": [
      "<class 'pandas.core.frame.DataFrame'>\n",
      "RangeIndex: 208 entries, 0 to 207\n",
      "Data columns (total 10 columns):\n",
      " #   Column    Non-Null Count  Dtype  \n",
      "---  ------    --------------  -----  \n",
      " 0   Employee  208 non-null    int64  \n",
      " 1   EducLev   208 non-null    int64  \n",
      " 2   JobGrade  208 non-null    int64  \n",
      " 3   YrHired   208 non-null    int64  \n",
      " 4   YrBorn    208 non-null    int64  \n",
      " 5   Gender    208 non-null    object \n",
      " 6   YrsPrior  208 non-null    int64  \n",
      " 7   PCJob     208 non-null    object \n",
      " 8   Salary    208 non-null    float64\n",
      " 9   Mgmt      208 non-null    object \n",
      "dtypes: float64(1), int64(6), object(3)\n",
      "memory usage: 16.4+ KB\n"
     ]
    }
   ],
   "source": [
    "bank.info()"
   ]
  },
  {
   "cell_type": "code",
   "execution_count": 6,
   "id": "d0c92fe7",
   "metadata": {},
   "outputs": [],
   "source": [
    "bank['Gender'] = bank['Gender'].astype('category')\n",
    "bank['PCJob'] = bank['PCJob'].astype('category')"
   ]
  },
  {
   "cell_type": "code",
   "execution_count": 7,
   "id": "c783b49a",
   "metadata": {},
   "outputs": [
    {
     "data": {
      "text/html": [
       "<div>\n",
       "<style scoped>\n",
       "    .dataframe tbody tr th:only-of-type {\n",
       "        vertical-align: middle;\n",
       "    }\n",
       "\n",
       "    .dataframe tbody tr th {\n",
       "        vertical-align: top;\n",
       "    }\n",
       "\n",
       "    .dataframe thead th {\n",
       "        text-align: right;\n",
       "    }\n",
       "</style>\n",
       "<table border=\"1\" class=\"dataframe\">\n",
       "  <thead>\n",
       "    <tr style=\"text-align: right;\">\n",
       "      <th></th>\n",
       "      <th>Gender</th>\n",
       "      <th>PCJob</th>\n",
       "    </tr>\n",
       "  </thead>\n",
       "  <tbody>\n",
       "    <tr>\n",
       "      <th>count</th>\n",
       "      <td>208</td>\n",
       "      <td>208</td>\n",
       "    </tr>\n",
       "    <tr>\n",
       "      <th>unique</th>\n",
       "      <td>2</td>\n",
       "      <td>2</td>\n",
       "    </tr>\n",
       "    <tr>\n",
       "      <th>top</th>\n",
       "      <td>Female</td>\n",
       "      <td>No</td>\n",
       "    </tr>\n",
       "    <tr>\n",
       "      <th>freq</th>\n",
       "      <td>140</td>\n",
       "      <td>189</td>\n",
       "    </tr>\n",
       "  </tbody>\n",
       "</table>\n",
       "</div>"
      ],
      "text/plain": [
       "        Gender PCJob\n",
       "count      208   208\n",
       "unique       2     2\n",
       "top     Female    No\n",
       "freq       140   189"
      ]
     },
     "execution_count": 7,
     "metadata": {},
     "output_type": "execute_result"
    }
   ],
   "source": [
    "bank.describe(include = 'category')"
   ]
  },
  {
   "cell_type": "markdown",
   "id": "98c5d4e1",
   "metadata": {},
   "source": [
    "### Basic Descriptive Statistics"
   ]
  },
  {
   "cell_type": "code",
   "execution_count": 8,
   "id": "832bdd70",
   "metadata": {},
   "outputs": [
    {
     "data": {
      "text/plain": [
       "39.921923076923086"
      ]
     },
     "execution_count": 8,
     "metadata": {},
     "output_type": "execute_result"
    }
   ],
   "source": [
    "bank['Salary'].mean()"
   ]
  },
  {
   "cell_type": "code",
   "execution_count": 9,
   "id": "ddb32f90",
   "metadata": {},
   "outputs": [
    {
     "data": {
      "text/plain": [
       "(26.7, 97.0, 37.0, 39.921923076923086)"
      ]
     },
     "execution_count": 9,
     "metadata": {},
     "output_type": "execute_result"
    }
   ],
   "source": [
    "sal = bank['Salary']\n",
    "sal.min(), sal.max(), sal.median(), sal.mean()"
   ]
  },
  {
   "cell_type": "code",
   "execution_count": 10,
   "id": "2dbeb0f0",
   "metadata": {},
   "outputs": [
    {
     "data": {
      "text/html": [
       "<div>\n",
       "<style scoped>\n",
       "    .dataframe tbody tr th:only-of-type {\n",
       "        vertical-align: middle;\n",
       "    }\n",
       "\n",
       "    .dataframe tbody tr th {\n",
       "        vertical-align: top;\n",
       "    }\n",
       "\n",
       "    .dataframe thead th {\n",
       "        text-align: right;\n",
       "    }\n",
       "</style>\n",
       "<table border=\"1\" class=\"dataframe\">\n",
       "  <thead>\n",
       "    <tr style=\"text-align: right;\">\n",
       "      <th></th>\n",
       "      <th>Employee</th>\n",
       "      <th>EducLev</th>\n",
       "      <th>JobGrade</th>\n",
       "      <th>YrHired</th>\n",
       "      <th>YrBorn</th>\n",
       "      <th>YrsPrior</th>\n",
       "      <th>Salary</th>\n",
       "    </tr>\n",
       "  </thead>\n",
       "  <tbody>\n",
       "    <tr>\n",
       "      <th>count</th>\n",
       "      <td>208.000000</td>\n",
       "      <td>208.000000</td>\n",
       "      <td>208.000000</td>\n",
       "      <td>208.000000</td>\n",
       "      <td>208.000000</td>\n",
       "      <td>208.000000</td>\n",
       "      <td>208.000000</td>\n",
       "    </tr>\n",
       "    <tr>\n",
       "      <th>mean</th>\n",
       "      <td>104.500000</td>\n",
       "      <td>3.158654</td>\n",
       "      <td>2.759615</td>\n",
       "      <td>85.326923</td>\n",
       "      <td>54.605769</td>\n",
       "      <td>2.375000</td>\n",
       "      <td>39.921923</td>\n",
       "    </tr>\n",
       "    <tr>\n",
       "      <th>std</th>\n",
       "      <td>60.188592</td>\n",
       "      <td>1.467464</td>\n",
       "      <td>1.566529</td>\n",
       "      <td>6.987832</td>\n",
       "      <td>10.318988</td>\n",
       "      <td>3.135237</td>\n",
       "      <td>11.256154</td>\n",
       "    </tr>\n",
       "    <tr>\n",
       "      <th>min</th>\n",
       "      <td>1.000000</td>\n",
       "      <td>1.000000</td>\n",
       "      <td>1.000000</td>\n",
       "      <td>56.000000</td>\n",
       "      <td>30.000000</td>\n",
       "      <td>0.000000</td>\n",
       "      <td>26.700000</td>\n",
       "    </tr>\n",
       "    <tr>\n",
       "      <th>25%</th>\n",
       "      <td>52.750000</td>\n",
       "      <td>2.000000</td>\n",
       "      <td>1.000000</td>\n",
       "      <td>82.000000</td>\n",
       "      <td>47.750000</td>\n",
       "      <td>0.000000</td>\n",
       "      <td>33.000000</td>\n",
       "    </tr>\n",
       "    <tr>\n",
       "      <th>50%</th>\n",
       "      <td>104.500000</td>\n",
       "      <td>3.000000</td>\n",
       "      <td>3.000000</td>\n",
       "      <td>87.000000</td>\n",
       "      <td>56.500000</td>\n",
       "      <td>1.000000</td>\n",
       "      <td>37.000000</td>\n",
       "    </tr>\n",
       "    <tr>\n",
       "      <th>75%</th>\n",
       "      <td>156.250000</td>\n",
       "      <td>5.000000</td>\n",
       "      <td>4.000000</td>\n",
       "      <td>90.000000</td>\n",
       "      <td>63.000000</td>\n",
       "      <td>4.000000</td>\n",
       "      <td>44.000000</td>\n",
       "    </tr>\n",
       "    <tr>\n",
       "      <th>max</th>\n",
       "      <td>208.000000</td>\n",
       "      <td>5.000000</td>\n",
       "      <td>6.000000</td>\n",
       "      <td>93.000000</td>\n",
       "      <td>73.000000</td>\n",
       "      <td>18.000000</td>\n",
       "      <td>97.000000</td>\n",
       "    </tr>\n",
       "  </tbody>\n",
       "</table>\n",
       "</div>"
      ],
      "text/plain": [
       "         Employee     EducLev    JobGrade     YrHired      YrBorn    YrsPrior  \\\n",
       "count  208.000000  208.000000  208.000000  208.000000  208.000000  208.000000   \n",
       "mean   104.500000    3.158654    2.759615   85.326923   54.605769    2.375000   \n",
       "std     60.188592    1.467464    1.566529    6.987832   10.318988    3.135237   \n",
       "min      1.000000    1.000000    1.000000   56.000000   30.000000    0.000000   \n",
       "25%     52.750000    2.000000    1.000000   82.000000   47.750000    0.000000   \n",
       "50%    104.500000    3.000000    3.000000   87.000000   56.500000    1.000000   \n",
       "75%    156.250000    5.000000    4.000000   90.000000   63.000000    4.000000   \n",
       "max    208.000000    5.000000    6.000000   93.000000   73.000000   18.000000   \n",
       "\n",
       "           Salary  \n",
       "count  208.000000  \n",
       "mean    39.921923  \n",
       "std     11.256154  \n",
       "min     26.700000  \n",
       "25%     33.000000  \n",
       "50%     37.000000  \n",
       "75%     44.000000  \n",
       "max     97.000000  "
      ]
     },
     "execution_count": 10,
     "metadata": {},
     "output_type": "execute_result"
    }
   ],
   "source": [
    "bank.describe()"
   ]
  },
  {
   "cell_type": "code",
   "execution_count": 11,
   "id": "653cdf0c",
   "metadata": {},
   "outputs": [],
   "source": [
    "import seaborn as sns"
   ]
  },
  {
   "cell_type": "code",
   "execution_count": 12,
   "id": "64a76887",
   "metadata": {},
   "outputs": [
    {
     "data": {
      "image/png": "[encoded data removed]",
      "text/plain": [
       "<Figure size 432x288 with 1 Axes>"
      ]
     },
     "metadata": {
      "needs_background": "light"
     },
     "output_type": "display_data"
    }
   ],
   "source": [
    "sns.histplot(x = bank['Salary']);"
   ]
  },
  {
   "cell_type": "code",
   "execution_count": 13,
   "id": "003c61bb",
   "metadata": {},
   "outputs": [
    {
     "data": {
      "image/png": "[encoded data removed]",
      "text/plain": [
       "<Figure size 432x288 with 1 Axes>"
      ]
     },
     "metadata": {
      "needs_background": "light"
     },
     "output_type": "display_data"
    }
   ],
   "source": [
    "sns.histplot(x=bank['Salary'], bins=10, kde=True);"
   ]
  },
  {
   "cell_type": "code",
   "execution_count": 14,
   "id": "f88ea244",
   "metadata": {},
   "outputs": [
    {
     "data": {
      "image/png": "[encoded data removed]",
      "text/plain": [
       "<Figure size 432x288 with 1 Axes>"
      ]
     },
     "metadata": {
      "needs_background": "light"
     },
     "output_type": "display_data"
    }
   ],
   "source": [
    "sns.histplot(x=bank['Salary'],\n",
    "            bins=10, kde=False,\n",
    "            stat = 'probability',\n",
    "            color = 'green'\n",
    "           );"
   ]
  },
  {
   "cell_type": "markdown",
   "id": "e88a17a6",
   "metadata": {},
   "source": [
    "### Filtering Data"
   ]
  },
  {
   "cell_type": "code",
   "execution_count": 15,
   "id": "936e7a90",
   "metadata": {},
   "outputs": [
    {
     "data": {
      "text/html": [
       "<div>\n",
       "<style scoped>\n",
       "    .dataframe tbody tr th:only-of-type {\n",
       "        vertical-align: middle;\n",
       "    }\n",
       "\n",
       "    .dataframe tbody tr th {\n",
       "        vertical-align: top;\n",
       "    }\n",
       "\n",
       "    .dataframe thead th {\n",
       "        text-align: right;\n",
       "    }\n",
       "</style>\n",
       "<table border=\"1\" class=\"dataframe\">\n",
       "  <thead>\n",
       "    <tr style=\"text-align: right;\">\n",
       "      <th></th>\n",
       "      <th>Employee</th>\n",
       "      <th>EducLev</th>\n",
       "      <th>JobGrade</th>\n",
       "      <th>YrHired</th>\n",
       "      <th>YrBorn</th>\n",
       "      <th>Gender</th>\n",
       "      <th>YrsPrior</th>\n",
       "      <th>PCJob</th>\n",
       "      <th>Salary</th>\n",
       "      <th>Mgmt</th>\n",
       "    </tr>\n",
       "  </thead>\n",
       "  <tbody>\n",
       "    <tr>\n",
       "      <th>1</th>\n",
       "      <td>2</td>\n",
       "      <td>1</td>\n",
       "      <td>1</td>\n",
       "      <td>81</td>\n",
       "      <td>57</td>\n",
       "      <td>Female</td>\n",
       "      <td>1</td>\n",
       "      <td>No</td>\n",
       "      <td>39.1</td>\n",
       "      <td>Non-Mgmt</td>\n",
       "    </tr>\n",
       "    <tr>\n",
       "      <th>2</th>\n",
       "      <td>3</td>\n",
       "      <td>1</td>\n",
       "      <td>1</td>\n",
       "      <td>83</td>\n",
       "      <td>60</td>\n",
       "      <td>Female</td>\n",
       "      <td>0</td>\n",
       "      <td>No</td>\n",
       "      <td>33.2</td>\n",
       "      <td>Non-Mgmt</td>\n",
       "    </tr>\n",
       "    <tr>\n",
       "      <th>3</th>\n",
       "      <td>4</td>\n",
       "      <td>2</td>\n",
       "      <td>1</td>\n",
       "      <td>87</td>\n",
       "      <td>55</td>\n",
       "      <td>Female</td>\n",
       "      <td>7</td>\n",
       "      <td>No</td>\n",
       "      <td>30.6</td>\n",
       "      <td>Non-Mgmt</td>\n",
       "    </tr>\n",
       "    <tr>\n",
       "      <th>5</th>\n",
       "      <td>6</td>\n",
       "      <td>3</td>\n",
       "      <td>1</td>\n",
       "      <td>92</td>\n",
       "      <td>71</td>\n",
       "      <td>Female</td>\n",
       "      <td>0</td>\n",
       "      <td>No</td>\n",
       "      <td>30.5</td>\n",
       "      <td>Non-Mgmt</td>\n",
       "    </tr>\n",
       "    <tr>\n",
       "      <th>6</th>\n",
       "      <td>7</td>\n",
       "      <td>3</td>\n",
       "      <td>1</td>\n",
       "      <td>91</td>\n",
       "      <td>68</td>\n",
       "      <td>Female</td>\n",
       "      <td>0</td>\n",
       "      <td>No</td>\n",
       "      <td>30.0</td>\n",
       "      <td>Non-Mgmt</td>\n",
       "    </tr>\n",
       "    <tr>\n",
       "      <th>...</th>\n",
       "      <td>...</td>\n",
       "      <td>...</td>\n",
       "      <td>...</td>\n",
       "      <td>...</td>\n",
       "      <td>...</td>\n",
       "      <td>...</td>\n",
       "      <td>...</td>\n",
       "      <td>...</td>\n",
       "      <td>...</td>\n",
       "      <td>...</td>\n",
       "    </tr>\n",
       "    <tr>\n",
       "      <th>186</th>\n",
       "      <td>187</td>\n",
       "      <td>5</td>\n",
       "      <td>5</td>\n",
       "      <td>86</td>\n",
       "      <td>58</td>\n",
       "      <td>Female</td>\n",
       "      <td>2</td>\n",
       "      <td>No</td>\n",
       "      <td>50.0</td>\n",
       "      <td>Mgmt</td>\n",
       "    </tr>\n",
       "    <tr>\n",
       "      <th>187</th>\n",
       "      <td>188</td>\n",
       "      <td>5</td>\n",
       "      <td>5</td>\n",
       "      <td>83</td>\n",
       "      <td>49</td>\n",
       "      <td>Female</td>\n",
       "      <td>2</td>\n",
       "      <td>No</td>\n",
       "      <td>61.8</td>\n",
       "      <td>Mgmt</td>\n",
       "    </tr>\n",
       "    <tr>\n",
       "      <th>188</th>\n",
       "      <td>189</td>\n",
       "      <td>4</td>\n",
       "      <td>5</td>\n",
       "      <td>79</td>\n",
       "      <td>52</td>\n",
       "      <td>Female</td>\n",
       "      <td>0</td>\n",
       "      <td>No</td>\n",
       "      <td>43.0</td>\n",
       "      <td>Mgmt</td>\n",
       "    </tr>\n",
       "    <tr>\n",
       "      <th>190</th>\n",
       "      <td>191</td>\n",
       "      <td>5</td>\n",
       "      <td>5</td>\n",
       "      <td>86</td>\n",
       "      <td>58</td>\n",
       "      <td>Female</td>\n",
       "      <td>6</td>\n",
       "      <td>No</td>\n",
       "      <td>58.5</td>\n",
       "      <td>Mgmt</td>\n",
       "    </tr>\n",
       "    <tr>\n",
       "      <th>207</th>\n",
       "      <td>208</td>\n",
       "      <td>5</td>\n",
       "      <td>6</td>\n",
       "      <td>62</td>\n",
       "      <td>33</td>\n",
       "      <td>Female</td>\n",
       "      <td>0</td>\n",
       "      <td>No</td>\n",
       "      <td>30.0</td>\n",
       "      <td>Mgmt</td>\n",
       "    </tr>\n",
       "  </tbody>\n",
       "</table>\n",
       "<p>140 rows × 10 columns</p>\n",
       "</div>"
      ],
      "text/plain": [
       "     Employee  EducLev  JobGrade  YrHired  YrBorn  Gender  YrsPrior PCJob  \\\n",
       "1           2        1         1       81      57  Female         1    No   \n",
       "2           3        1         1       83      60  Female         0    No   \n",
       "3           4        2         1       87      55  Female         7    No   \n",
       "5           6        3         1       92      71  Female         0    No   \n",
       "6           7        3         1       91      68  Female         0    No   \n",
       "..        ...      ...       ...      ...     ...     ...       ...   ...   \n",
       "186       187        5         5       86      58  Female         2    No   \n",
       "187       188        5         5       83      49  Female         2    No   \n",
       "188       189        4         5       79      52  Female         0    No   \n",
       "190       191        5         5       86      58  Female         6    No   \n",
       "207       208        5         6       62      33  Female         0    No   \n",
       "\n",
       "     Salary      Mgmt  \n",
       "1      39.1  Non-Mgmt  \n",
       "2      33.2  Non-Mgmt  \n",
       "3      30.6  Non-Mgmt  \n",
       "5      30.5  Non-Mgmt  \n",
       "6      30.0  Non-Mgmt  \n",
       "..      ...       ...  \n",
       "186    50.0      Mgmt  \n",
       "187    61.8      Mgmt  \n",
       "188    43.0      Mgmt  \n",
       "190    58.5      Mgmt  \n",
       "207    30.0      Mgmt  \n",
       "\n",
       "[140 rows x 10 columns]"
      ]
     },
     "execution_count": 15,
     "metadata": {},
     "output_type": "execute_result"
    }
   ],
   "source": [
    "bank[bank['Gender'] == 'Female']"
   ]
  },
  {
   "cell_type": "code",
   "execution_count": 16,
   "id": "b3bc0ff6",
   "metadata": {},
   "outputs": [
    {
     "data": {
      "text/plain": [
       "pandas.core.frame.DataFrame"
      ]
     },
     "execution_count": 16,
     "metadata": {},
     "output_type": "execute_result"
    }
   ],
   "source": [
    "FemaleEmp = bank[bank['Gender'] == 'Female']\n",
    "type(FemaleEmp)"
   ]
  },
  {
   "cell_type": "code",
   "execution_count": 17,
   "id": "b7ce7491",
   "metadata": {},
   "outputs": [
    {
     "data": {
      "text/plain": [
       "37.20992857142858"
      ]
     },
     "execution_count": 17,
     "metadata": {},
     "output_type": "execute_result"
    }
   ],
   "source": [
    "FemaleEmp['Salary'].mean()"
   ]
  },
  {
   "cell_type": "code",
   "execution_count": 18,
   "id": "17a186d5",
   "metadata": {},
   "outputs": [
    {
     "data": {
      "text/plain": [
       "37.21"
      ]
     },
     "execution_count": 18,
     "metadata": {},
     "output_type": "execute_result"
    }
   ],
   "source": [
    "round(FemaleEmp['Salary'].mean(),2)"
   ]
  },
  {
   "cell_type": "markdown",
   "id": "39bf94f3",
   "metadata": {},
   "source": [
    "### Recoding Data"
   ]
  },
  {
   "cell_type": "code",
   "execution_count": 19,
   "id": "9336d987",
   "metadata": {},
   "outputs": [
    {
     "data": {
      "text/html": [
       "<div>\n",
       "<style scoped>\n",
       "    .dataframe tbody tr th:only-of-type {\n",
       "        vertical-align: middle;\n",
       "    }\n",
       "\n",
       "    .dataframe tbody tr th {\n",
       "        vertical-align: top;\n",
       "    }\n",
       "\n",
       "    .dataframe thead th {\n",
       "        text-align: right;\n",
       "    }\n",
       "</style>\n",
       "<table border=\"1\" class=\"dataframe\">\n",
       "  <thead>\n",
       "    <tr style=\"text-align: right;\">\n",
       "      <th></th>\n",
       "      <th>Employee</th>\n",
       "      <th>EducLev</th>\n",
       "      <th>JobGrade</th>\n",
       "      <th>YrHired</th>\n",
       "      <th>YrBorn</th>\n",
       "      <th>Gender</th>\n",
       "      <th>YrsPrior</th>\n",
       "      <th>PCJob</th>\n",
       "      <th>Salary</th>\n",
       "      <th>Mgmt</th>\n",
       "      <th>GenderDummy_F</th>\n",
       "    </tr>\n",
       "  </thead>\n",
       "  <tbody>\n",
       "    <tr>\n",
       "      <th>0</th>\n",
       "      <td>1</td>\n",
       "      <td>3</td>\n",
       "      <td>1</td>\n",
       "      <td>92</td>\n",
       "      <td>69</td>\n",
       "      <td>Male</td>\n",
       "      <td>1</td>\n",
       "      <td>No</td>\n",
       "      <td>32.0</td>\n",
       "      <td>Non-Mgmt</td>\n",
       "      <td>0</td>\n",
       "    </tr>\n",
       "    <tr>\n",
       "      <th>1</th>\n",
       "      <td>2</td>\n",
       "      <td>1</td>\n",
       "      <td>1</td>\n",
       "      <td>81</td>\n",
       "      <td>57</td>\n",
       "      <td>Female</td>\n",
       "      <td>1</td>\n",
       "      <td>No</td>\n",
       "      <td>39.1</td>\n",
       "      <td>Non-Mgmt</td>\n",
       "      <td>1</td>\n",
       "    </tr>\n",
       "    <tr>\n",
       "      <th>2</th>\n",
       "      <td>3</td>\n",
       "      <td>1</td>\n",
       "      <td>1</td>\n",
       "      <td>83</td>\n",
       "      <td>60</td>\n",
       "      <td>Female</td>\n",
       "      <td>0</td>\n",
       "      <td>No</td>\n",
       "      <td>33.2</td>\n",
       "      <td>Non-Mgmt</td>\n",
       "      <td>1</td>\n",
       "    </tr>\n",
       "    <tr>\n",
       "      <th>3</th>\n",
       "      <td>4</td>\n",
       "      <td>2</td>\n",
       "      <td>1</td>\n",
       "      <td>87</td>\n",
       "      <td>55</td>\n",
       "      <td>Female</td>\n",
       "      <td>7</td>\n",
       "      <td>No</td>\n",
       "      <td>30.6</td>\n",
       "      <td>Non-Mgmt</td>\n",
       "      <td>1</td>\n",
       "    </tr>\n",
       "    <tr>\n",
       "      <th>4</th>\n",
       "      <td>5</td>\n",
       "      <td>3</td>\n",
       "      <td>1</td>\n",
       "      <td>92</td>\n",
       "      <td>67</td>\n",
       "      <td>Male</td>\n",
       "      <td>0</td>\n",
       "      <td>No</td>\n",
       "      <td>29.0</td>\n",
       "      <td>Non-Mgmt</td>\n",
       "      <td>0</td>\n",
       "    </tr>\n",
       "  </tbody>\n",
       "</table>\n",
       "</div>"
      ],
      "text/plain": [
       "   Employee  EducLev  JobGrade  YrHired  YrBorn  Gender  YrsPrior PCJob  \\\n",
       "0         1        3         1       92      69    Male         1    No   \n",
       "1         2        1         1       81      57  Female         1    No   \n",
       "2         3        1         1       83      60  Female         0    No   \n",
       "3         4        2         1       87      55  Female         7    No   \n",
       "4         5        3         1       92      67    Male         0    No   \n",
       "\n",
       "   Salary      Mgmt  GenderDummy_F  \n",
       "0    32.0  Non-Mgmt              0  \n",
       "1    39.1  Non-Mgmt              1  \n",
       "2    33.2  Non-Mgmt              1  \n",
       "3    30.6  Non-Mgmt              1  \n",
       "4    29.0  Non-Mgmt              0  "
      ]
     },
     "execution_count": 19,
     "metadata": {},
     "output_type": "execute_result"
    }
   ],
   "source": [
    "import numpy as np\n",
    "bank['GenderDummy_F'] = np.where(bank['Gender']== 'Female',1,0)\n",
    "bank.head()"
   ]
  },
  {
   "cell_type": "code",
   "execution_count": 20,
   "id": "178c285b",
   "metadata": {},
   "outputs": [],
   "source": [
    "# Recoding via applying a function\n",
    "\n",
    "def my_recode(gender):\n",
    "    if gender == 'Female':\n",
    "        return 1\n",
    "    else:\n",
    "        return 0"
   ]
  },
  {
   "cell_type": "code",
   "execution_count": 21,
   "id": "4f1af147",
   "metadata": {},
   "outputs": [
    {
     "data": {
      "text/html": [
       "<div>\n",
       "<style scoped>\n",
       "    .dataframe tbody tr th:only-of-type {\n",
       "        vertical-align: middle;\n",
       "    }\n",
       "\n",
       "    .dataframe tbody tr th {\n",
       "        vertical-align: top;\n",
       "    }\n",
       "\n",
       "    .dataframe thead th {\n",
       "        text-align: right;\n",
       "    }\n",
       "</style>\n",
       "<table border=\"1\" class=\"dataframe\">\n",
       "  <thead>\n",
       "    <tr style=\"text-align: right;\">\n",
       "      <th></th>\n",
       "      <th>Employee</th>\n",
       "      <th>EducLev</th>\n",
       "      <th>JobGrade</th>\n",
       "      <th>YrHired</th>\n",
       "      <th>YrBorn</th>\n",
       "      <th>Gender</th>\n",
       "      <th>YrsPrior</th>\n",
       "      <th>PCJob</th>\n",
       "      <th>Salary</th>\n",
       "      <th>Mgmt</th>\n",
       "      <th>GenderDummy_F</th>\n",
       "    </tr>\n",
       "  </thead>\n",
       "  <tbody>\n",
       "    <tr>\n",
       "      <th>0</th>\n",
       "      <td>1</td>\n",
       "      <td>3</td>\n",
       "      <td>1</td>\n",
       "      <td>92</td>\n",
       "      <td>69</td>\n",
       "      <td>Male</td>\n",
       "      <td>1</td>\n",
       "      <td>No</td>\n",
       "      <td>32.0</td>\n",
       "      <td>Non-Mgmt</td>\n",
       "      <td>0</td>\n",
       "    </tr>\n",
       "    <tr>\n",
       "      <th>1</th>\n",
       "      <td>2</td>\n",
       "      <td>1</td>\n",
       "      <td>1</td>\n",
       "      <td>81</td>\n",
       "      <td>57</td>\n",
       "      <td>Female</td>\n",
       "      <td>1</td>\n",
       "      <td>No</td>\n",
       "      <td>39.1</td>\n",
       "      <td>Non-Mgmt</td>\n",
       "      <td>1</td>\n",
       "    </tr>\n",
       "    <tr>\n",
       "      <th>2</th>\n",
       "      <td>3</td>\n",
       "      <td>1</td>\n",
       "      <td>1</td>\n",
       "      <td>83</td>\n",
       "      <td>60</td>\n",
       "      <td>Female</td>\n",
       "      <td>0</td>\n",
       "      <td>No</td>\n",
       "      <td>33.2</td>\n",
       "      <td>Non-Mgmt</td>\n",
       "      <td>1</td>\n",
       "    </tr>\n",
       "    <tr>\n",
       "      <th>3</th>\n",
       "      <td>4</td>\n",
       "      <td>2</td>\n",
       "      <td>1</td>\n",
       "      <td>87</td>\n",
       "      <td>55</td>\n",
       "      <td>Female</td>\n",
       "      <td>7</td>\n",
       "      <td>No</td>\n",
       "      <td>30.6</td>\n",
       "      <td>Non-Mgmt</td>\n",
       "      <td>1</td>\n",
       "    </tr>\n",
       "    <tr>\n",
       "      <th>4</th>\n",
       "      <td>5</td>\n",
       "      <td>3</td>\n",
       "      <td>1</td>\n",
       "      <td>92</td>\n",
       "      <td>67</td>\n",
       "      <td>Male</td>\n",
       "      <td>0</td>\n",
       "      <td>No</td>\n",
       "      <td>29.0</td>\n",
       "      <td>Non-Mgmt</td>\n",
       "      <td>0</td>\n",
       "    </tr>\n",
       "  </tbody>\n",
       "</table>\n",
       "</div>"
      ],
      "text/plain": [
       "   Employee  EducLev  JobGrade  YrHired  YrBorn  Gender  YrsPrior PCJob  \\\n",
       "0         1        3         1       92      69    Male         1    No   \n",
       "1         2        1         1       81      57  Female         1    No   \n",
       "2         3        1         1       83      60  Female         0    No   \n",
       "3         4        2         1       87      55  Female         7    No   \n",
       "4         5        3         1       92      67    Male         0    No   \n",
       "\n",
       "   Salary      Mgmt GenderDummy_F  \n",
       "0    32.0  Non-Mgmt             0  \n",
       "1    39.1  Non-Mgmt             1  \n",
       "2    33.2  Non-Mgmt             1  \n",
       "3    30.6  Non-Mgmt             1  \n",
       "4    29.0  Non-Mgmt             0  "
      ]
     },
     "execution_count": 21,
     "metadata": {},
     "output_type": "execute_result"
    }
   ],
   "source": [
    "bank['GenderDummy_F'] = bank['Gender'].apply(my_recode)\n",
    "bank.head()"
   ]
  },
  {
   "cell_type": "code",
   "execution_count": 22,
   "id": "5d5b9e23",
   "metadata": {},
   "outputs": [],
   "source": [
    "# we occasionally want to transform a numerical column in order to increase the linearity of out models. \n",
    "# For this, we can use the numpy log() function, which returns the natural (base e) logarithm"
   ]
  },
  {
   "cell_type": "code",
   "execution_count": 23,
   "id": "2cda6958",
   "metadata": {},
   "outputs": [],
   "source": [
    "bank['logSalary'] = np.log(bank['Salary'])"
   ]
  },
  {
   "cell_type": "code",
   "execution_count": 24,
   "id": "27637465",
   "metadata": {},
   "outputs": [
    {
     "data": {
      "image/png": "[encoded data removed]",
      "text/plain": [
       "<Figure size 432x288 with 1 Axes>"
      ]
     },
     "metadata": {
      "needs_background": "light"
     },
     "output_type": "display_data"
    }
   ],
   "source": [
    "sns.kdeplot(x=bank['logSalary'], shade = True, linewidth = 3);"
   ]
  },
  {
   "cell_type": "markdown",
   "id": "59f0e8d2",
   "metadata": {},
   "source": [
    "#### In this case, a log transform does not really improve the normality of the salary data. The underlying issue appears to be bimodality—there are actually two salary distributions: workers and managers."
   ]
  },
  {
   "cell_type": "markdown",
   "id": "37ae71b5",
   "metadata": {},
   "source": [
    "## Visual Gap Analysis"
   ]
  },
  {
   "cell_type": "code",
   "execution_count": 25,
   "id": "1f71c697",
   "metadata": {},
   "outputs": [
    {
     "data": {
      "image/png": "[encoded data removed]",
      "text/plain": [
       "<Figure size 432x288 with 1 Axes>"
      ]
     },
     "metadata": {
      "needs_background": "light"
     },
     "output_type": "display_data"
    }
   ],
   "source": [
    "# comparison of the distribution of salary by gender.\n",
    "\n",
    "sns.boxplot(x=bank['Salary'], y = bank['Gender'], showmeans=True);"
   ]
  },
  {
   "cell_type": "code",
   "execution_count": 26,
   "id": "78044703",
   "metadata": {},
   "outputs": [
    {
     "data": {
      "image/png": "[encoded data removed]",
      "text/plain": [
       "<Figure size 432x288 with 1 Axes>"
      ]
     },
     "metadata": {
      "needs_background": "light"
     },
     "output_type": "display_data"
    }
   ],
   "source": [
    "# comparison of the distribution of salary by Job Grade.\n",
    "\n",
    "sns.boxplot(x=bank['Salary'], y= bank['JobGrade'].astype('category'), showmeans=True);"
   ]
  },
  {
   "cell_type": "markdown",
   "id": "bed3d856",
   "metadata": {},
   "source": [
    "#### We see that the higher job grades (managerial roles) have both higher mean salaries and higher variability in salaries than the lower job grades.\n",
    "\n"
   ]
  },
  {
   "cell_type": "code",
   "execution_count": 27,
   "id": "a99f7c81",
   "metadata": {},
   "outputs": [
    {
     "data": {
      "image/png": "[encoded data removed]",
      "text/plain": [
       "<Figure size 360x720 with 2 Axes>"
      ]
     },
     "metadata": {
      "needs_background": "light"
     },
     "output_type": "display_data"
    }
   ],
   "source": [
    "sns.displot(x=bank['Salary'], row = 'Gender', data = bank, linewidth = 0, kde=True);"
   ]
  },
  {
   "cell_type": "code",
   "execution_count": 28,
   "id": "9ff1cf61",
   "metadata": {},
   "outputs": [
    {
     "data": {
      "image/png": "[encoded data removed]",
      "text/plain": [
       "<Figure size 432x288 with 1 Axes>"
      ]
     },
     "metadata": {
      "needs_background": "light"
     },
     "output_type": "display_data"
    }
   ],
   "source": [
    "sns.kdeplot(x='Salary', hue='Gender', data=bank, shade = True);"
   ]
  },
  {
   "cell_type": "markdown",
   "id": "2de45138",
   "metadata": {},
   "source": [
    "### Gap Analysis using t-Tests"
   ]
  },
  {
   "cell_type": "code",
   "execution_count": 29,
   "id": "d87b8def",
   "metadata": {},
   "outputs": [],
   "source": [
    "female_sal = bank[bank['Gender']=='Female']['Salary']\n",
    "male_sal = bank[bank['Gender']== 'Male']['Salary']"
   ]
  },
  {
   "cell_type": "code",
   "execution_count": 30,
   "id": "a2b86a12",
   "metadata": {},
   "outputs": [
    {
     "data": {
      "text/plain": [
       "1      39.1\n",
       "2      33.2\n",
       "3      30.6\n",
       "5      30.5\n",
       "6      30.0\n",
       "       ... \n",
       "186    50.0\n",
       "187    61.8\n",
       "188    43.0\n",
       "190    58.5\n",
       "207    30.0\n",
       "Name: Salary, Length: 140, dtype: float64"
      ]
     },
     "execution_count": 30,
     "metadata": {},
     "output_type": "execute_result"
    }
   ],
   "source": [
    "female_sal"
   ]
  },
  {
   "cell_type": "markdown",
   "id": "a4c4054c",
   "metadata": {},
   "source": [
    "#### Testing for equality of variance"
   ]
  },
  {
   "cell_type": "code",
   "execution_count": 31,
   "id": "7f1423d4",
   "metadata": {},
   "outputs": [],
   "source": [
    "from scipy import stats"
   ]
  },
  {
   "cell_type": "code",
   "execution_count": 32,
   "id": "8836a953",
   "metadata": {},
   "outputs": [
    {
     "data": {
      "text/plain": [
       "LeveneResult(statistic=26.208558688866834, pvalue=7.013920590029544e-07)"
      ]
     },
     "execution_count": 32,
     "metadata": {},
     "output_type": "execute_result"
    }
   ],
   "source": [
    "stats.levene(female_sal,male_sal)"
   ]
  },
  {
   "cell_type": "code",
   "execution_count": 33,
   "id": "a1091c31",
   "metadata": {},
   "outputs": [],
   "source": [
    "#  Any number that ends with “e07” () is small enough to treat as zero. \n",
    "#  We thus proceed under the assumption that the variances are unequal.\n"
   ]
  },
  {
   "cell_type": "markdown",
   "id": "eb491976",
   "metadata": {},
   "source": [
    "### Running t-Tests"
   ]
  },
  {
   "cell_type": "code",
   "execution_count": 34,
   "id": "8c1d85d9",
   "metadata": {},
   "outputs": [],
   "source": [
    "import statsmodels.stats.api as sms"
   ]
  },
  {
   "cell_type": "code",
   "execution_count": 35,
   "id": "0bf0731f",
   "metadata": {},
   "outputs": [
    {
     "data": {
      "text/html": [
       "<table class=\"simpletable\">\n",
       "<caption>Test for equality of means</caption>\n",
       "<tr>\n",
       "      <td></td>         <th>coef</th>     <th>std err</th>      <th>t</th>      <th>P>|t|</th>  <th>[0.025</th>    <th>0.975]</th>  \n",
       "</tr>\n",
       "<tr>\n",
       "  <th>subset #1</th> <td>   -8.2955</td> <td>    2.003</td> <td>   -4.141</td> <td> 0.000</td> <td>  -12.283</td> <td>   -4.308</td>\n",
       "</tr>\n",
       "</table>"
      ],
      "text/plain": [
       "<class 'statsmodels.iolib.table.SimpleTable'>"
      ]
     },
     "execution_count": 35,
     "metadata": {},
     "output_type": "execute_result"
    }
   ],
   "source": [
    "model = sms.CompareMeans.from_data(female_sal, male_sal)\n",
    "model.summary( usevar='unequal')"
   ]
  },
  {
   "cell_type": "code",
   "execution_count": 36,
   "id": "9c4cadc0",
   "metadata": {},
   "outputs": [],
   "source": [
    "# The summary includes:\n",
    "\n",
    "#         the difference in sample means (-8,295)\n",
    "\n",
    "#         the p-value (appropriately rounded)\n",
    "\n",
    "#         the 5% confidence intervals around the difference in means. \n",
    "#         Here we are 95% certain that the true difference between female and male salaries is somewhere between 4.3K and 12.2K\n"
   ]
  },
  {
   "cell_type": "markdown",
   "id": "5048e1db",
   "metadata": {},
   "source": [
    "## Gap Analysis with Categorical Variables"
   ]
  },
  {
   "cell_type": "code",
   "execution_count": 39,
   "id": "cff289d6",
   "metadata": {},
   "outputs": [],
   "source": [
    "# recode JobGrade to Manager\n",
    "\n",
    "grades = [1,2,3,4,5,6]\n",
    "status = [\"non-mgmt\",\"non-mgmt\",\"non-mgmt\",\"non-mgmt\",\"mgmt\",\"mgmt\"]\n",
    "bank['Manager'] = bank['JobGrade'].replace(grades,status)"
   ]
  },
  {
   "cell_type": "code",
   "execution_count": 40,
   "id": "4f638b7f",
   "metadata": {},
   "outputs": [
    {
     "data": {
      "text/html": [
       "<div>\n",
       "<style scoped>\n",
       "    .dataframe tbody tr th:only-of-type {\n",
       "        vertical-align: middle;\n",
       "    }\n",
       "\n",
       "    .dataframe tbody tr th {\n",
       "        vertical-align: top;\n",
       "    }\n",
       "\n",
       "    .dataframe thead th {\n",
       "        text-align: right;\n",
       "    }\n",
       "</style>\n",
       "<table border=\"1\" class=\"dataframe\">\n",
       "  <thead>\n",
       "    <tr style=\"text-align: right;\">\n",
       "      <th>Manager</th>\n",
       "      <th>mgmt</th>\n",
       "      <th>non-mgmt</th>\n",
       "      <th>All</th>\n",
       "    </tr>\n",
       "    <tr>\n",
       "      <th>Gender</th>\n",
       "      <th></th>\n",
       "      <th></th>\n",
       "      <th></th>\n",
       "    </tr>\n",
       "  </thead>\n",
       "  <tbody>\n",
       "    <tr>\n",
       "      <th>Female</th>\n",
       "      <td>10</td>\n",
       "      <td>130</td>\n",
       "      <td>140</td>\n",
       "    </tr>\n",
       "    <tr>\n",
       "      <th>Male</th>\n",
       "      <td>25</td>\n",
       "      <td>43</td>\n",
       "      <td>68</td>\n",
       "    </tr>\n",
       "    <tr>\n",
       "      <th>All</th>\n",
       "      <td>35</td>\n",
       "      <td>173</td>\n",
       "      <td>208</td>\n",
       "    </tr>\n",
       "  </tbody>\n",
       "</table>\n",
       "</div>"
      ],
      "text/plain": [
       "Manager  mgmt  non-mgmt  All\n",
       "Gender                      \n",
       "Female     10       130  140\n",
       "Male       25        43   68\n",
       "All        35       173  208"
      ]
     },
     "execution_count": 40,
     "metadata": {},
     "output_type": "execute_result"
    }
   ],
   "source": [
    "# Contingency table\n",
    "\n",
    "contab_freq = pd.crosstab(\n",
    "    bank['Gender'],\n",
    "    bank['Manager'],\n",
    "    margins = True\n",
    "    )\n",
    "contab_freq"
   ]
  },
  {
   "cell_type": "markdown",
   "id": "9e5ba659",
   "metadata": {},
   "source": [
    "### Chi-squared test of independence"
   ]
  },
  {
   "cell_type": "code",
   "execution_count": 42,
   "id": "7750efec",
   "metadata": {},
   "outputs": [],
   "source": [
    "# Scipy has a method called chi2_contingency() that takes a contingency table of observed frequencies as input."
   ]
  },
  {
   "cell_type": "code",
   "execution_count": 43,
   "id": "d224e32e",
   "metadata": {},
   "outputs": [
    {
     "data": {
      "text/plain": [
       "(26.617776266575998,\n",
       " 2.479518719230249e-07,\n",
       " 1,\n",
       " array([[ 23.55769231, 116.44230769],\n",
       "        [ 11.44230769,  56.55769231]]))"
      ]
     },
     "execution_count": 43,
     "metadata": {},
     "output_type": "execute_result"
    }
   ],
   "source": [
    "contab_obs = pd.crosstab(\n",
    "    bank['Gender'],\n",
    "    bank['Manager'],\n",
    "    margins = False\n",
    "    )\n",
    "chi = stats.chi2_contingency(contab_obs)\n",
    "chi"
   ]
  },
  {
   "cell_type": "code",
   "execution_count": 44,
   "id": "54a88960",
   "metadata": {},
   "outputs": [],
   "source": [
    "# The second line is the probability of getting a  statistic that large if the two variables are independent. \n",
    "# This p-value is very small (10^-7) so we conclude there is almost zero chance that gender and managerial status are independent at this bank."
   ]
  },
  {
   "cell_type": "code",
   "execution_count": null,
   "id": "1d64e69e",
   "metadata": {},
   "outputs": [],
   "source": []
  }
 ],
 "metadata": {
  "kernelspec": {
   "display_name": "Python 3 (ipykernel)",
   "language": "python",
   "name": "python3"
  },
  "language_info": {
   "codemirror_mode": {
    "name": "ipython",
    "version": 3
   },
   "file_extension": ".py",
   "mimetype": "text/x-python",
   "name": "python",
   "nbconvert_exporter": "python",
   "pygments_lexer": "ipython3",
   "version": "3.9.7"
  }
 },
 "nbformat": 4,
 "nbformat_minor": 5
}
